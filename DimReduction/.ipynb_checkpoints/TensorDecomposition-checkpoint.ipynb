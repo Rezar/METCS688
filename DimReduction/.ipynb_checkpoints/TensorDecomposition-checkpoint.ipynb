{
 "cells": [
  {
   "cell_type": "code",
   "execution_count": 15,
   "metadata": {},
   "outputs": [
    {
     "name": "stdout",
     "output_type": "stream",
     "text": [
      "* original tensor:\n",
      "[[[ 0  1  2  3  4]\n",
      "  [ 5  6  7  8  9]\n",
      "  [10 11 12 13 14]\n",
      "  [15 16 17 18 19]]\n",
      "\n",
      " [[20 21 22 23 24]\n",
      "  [25 26 27 28 29]\n",
      "  [30 31 32 33 34]\n",
      "  [35 36 37 38 39]]\n",
      "\n",
      " [[40 41 42 43 44]\n",
      "  [45 46 47 48 49]\n",
      "  [50 51 52 53 54]\n",
      "  [55 56 57 58 59]]]\n",
      "original shape:\n",
      "(3, 4, 5)\n"
     ]
    }
   ],
   "source": [
    "import numpy as np\n",
    "import tensorly as tl\n",
    "\n",
    "import numpy as np\n",
    "import tensorly as tl\n",
    "tensor = tl.tensor(np.arange(60).reshape((3, 4, 5))) # 60 = 3 x4 x5\n",
    "original_shape = tensor.shape\n",
    "\n",
    "print('* original tensor:\\n{}'.format(tensor))\n",
    "print('original shape:')\n",
    "print(original_shape)\n"
   ]
  },
  {
   "cell_type": "code",
   "execution_count": 2,
   "metadata": {},
   "outputs": [
    {
     "name": "stdout",
     "output_type": "stream",
     "text": [
      "* unfolder (mode-1) tensor:\n",
      "[[ 0  1  2  3  4  5  6  7  8  9 10 11 12 13 14 15 16 17 18 19]\n",
      " [20 21 22 23 24 25 26 27 28 29 30 31 32 33 34 35 36 37 38 39]\n",
      " [40 41 42 43 44 45 46 47 48 49 50 51 52 53 54 55 56 57 58 59]]\n",
      "* unfolder (mode-2) tensor:\n",
      "[[ 0  1  2  3  4 20 21 22 23 24 40 41 42 43 44]\n",
      " [ 5  6  7  8  9 25 26 27 28 29 45 46 47 48 49]\n",
      " [10 11 12 13 14 30 31 32 33 34 50 51 52 53 54]\n",
      " [15 16 17 18 19 35 36 37 38 39 55 56 57 58 59]]\n",
      "* unfolder (mode-3) tensor:\n",
      "[[ 0  5 10 15 20 25 30 35 40 45 50 55]\n",
      " [ 1  6 11 16 21 26 31 36 41 46 51 56]\n",
      " [ 2  7 12 17 22 27 32 37 42 47 52 57]\n",
      " [ 3  8 13 18 23 28 33 38 43 48 53 58]\n",
      " [ 4  9 14 19 24 29 34 39 44 49 54 59]]\n",
      "* again original tensor:\n",
      "[[[ 0  1  2  3  4]\n",
      "  [ 5  6  7  8  9]\n",
      "  [10 11 12 13 14]\n",
      "  [15 16 17 18 19]]\n",
      "\n",
      " [[20 21 22 23 24]\n",
      "  [25 26 27 28 29]\n",
      "  [30 31 32 33 34]\n",
      "  [35 36 37 38 39]]\n",
      "\n",
      " [[40 41 42 43 44]\n",
      "  [45 46 47 48 49]\n",
      "  [50 51 52 53 54]\n",
      "  [55 56 57 58 59]]]\n"
     ]
    }
   ],
   "source": [
    "\n",
    "from tensorly import unfold\n",
    "from tensorly import fold\n",
    "\n",
    "\n",
    "mode1_t2 = unfold(tensor, 0) # mode-1 unfolding\n",
    "print('* unfolder (mode-1) tensor:\\n{}'.format(mode1_t2))\n",
    "\n",
    "mode2_t2 = unfold(tensor, 1) # mode-2 unfolding\n",
    "print('* unfolder (mode-2) tensor:\\n{}'.format(mode2_t2))\n",
    "\n",
    "mode3_t2 = unfold(tensor, 2) # mode-2 unfolding\n",
    "print('* unfolder (mode-3) tensor:\\n{}'.format(mode3_t2))\n",
    "\n",
    "torig = fold(mode3_t2, 2, original_shape) # 2 is used to specify the mode.\n",
    "print('* again original tensor:\\n{}'.format(torig))\n"
   ]
  },
  {
   "cell_type": "code",
   "execution_count": 55,
   "metadata": {},
   "outputs": [
    {
     "name": "stdout",
     "output_type": "stream",
     "text": [
      "[[ 0  1  2  3  4  5  6  7  8  9 10 11 12 13 14 15 16 17 18 19]\n",
      " [20 21 22 23 24 25 26 27 28 29 30 31 32 33 34 35 36 37 38 39]\n",
      " [40 41 42 43 44 45 46 47 48 49 50 51 52 53 54 55 56 57 58 59]]\n",
      "-----------PARAFAC RANK 3-----------\n",
      "[[-6.81036801e-12  1.00000000e+00  2.00000000e+00  3.00000000e+00\n",
      "   4.00000000e+00  5.00000000e+00  6.00000000e+00  7.00000000e+00\n",
      "   8.00000000e+00  9.00000000e+00  1.00000000e+01  1.10000000e+01\n",
      "   1.20000000e+01  1.30000000e+01  1.40000000e+01  1.50000000e+01\n",
      "   1.60000000e+01  1.70000000e+01  1.80000000e+01  1.90000000e+01]\n",
      " [ 2.00000000e+01  2.10000000e+01  2.20000000e+01  2.30000000e+01\n",
      "   2.40000000e+01  2.50000000e+01  2.60000000e+01  2.70000000e+01\n",
      "   2.80000000e+01  2.90000000e+01  3.00000000e+01  3.10000000e+01\n",
      "   3.20000000e+01  3.30000000e+01  3.40000000e+01  3.50000000e+01\n",
      "   3.60000000e+01  3.70000000e+01  3.80000000e+01  3.90000000e+01]\n",
      " [ 4.00000000e+01  4.10000000e+01  4.20000000e+01  4.30000000e+01\n",
      "   4.40000000e+01  4.50000000e+01  4.60000000e+01  4.70000000e+01\n",
      "   4.80000000e+01  4.90000000e+01  5.00000000e+01  5.10000000e+01\n",
      "   5.20000000e+01  5.30000000e+01  5.40000000e+01  5.50000000e+01\n",
      "   5.60000000e+01  5.70000000e+01  5.80000000e+01  5.90000000e+01]]\n",
      "-----------PARAFAC RANK 5-----------\n",
      "[[2.38664684e-14 1.00000000e+00 2.00000000e+00 3.00000000e+00\n",
      "  4.00000000e+00 2.00000000e+01 2.10000000e+01 2.20000000e+01\n",
      "  2.30000000e+01 2.40000000e+01 4.00000000e+01 4.10000000e+01\n",
      "  4.20000000e+01 4.30000000e+01 4.40000000e+01]\n",
      " [5.00000000e+00 6.00000000e+00 7.00000000e+00 8.00000000e+00\n",
      "  9.00000000e+00 2.50000000e+01 2.60000000e+01 2.70000000e+01\n",
      "  2.80000000e+01 2.90000000e+01 4.50000000e+01 4.60000000e+01\n",
      "  4.70000000e+01 4.80000000e+01 4.90000000e+01]\n",
      " [1.00000000e+01 1.10000000e+01 1.20000000e+01 1.30000000e+01\n",
      "  1.40000000e+01 3.00000000e+01 3.10000000e+01 3.20000000e+01\n",
      "  3.30000000e+01 3.40000000e+01 5.00000000e+01 5.10000000e+01\n",
      "  5.20000000e+01 5.30000000e+01 5.40000000e+01]\n",
      " [1.50000000e+01 1.60000000e+01 1.70000000e+01 1.80000000e+01\n",
      "  1.90000000e+01 3.50000000e+01 3.60000000e+01 3.70000000e+01\n",
      "  3.80000000e+01 3.90000000e+01 5.50000000e+01 5.60000000e+01\n",
      "  5.70000000e+01 5.80000000e+01 5.90000000e+01]]\n",
      "-----------PARAFAC RANK 5-----------\n"
     ]
    },
    {
     "ename": "LinAlgError",
     "evalue": "Singular matrix",
     "output_type": "error",
     "traceback": [
      "\u001b[0;31m---------------------------------------------------------------------------\u001b[0m",
      "\u001b[0;31mLinAlgError\u001b[0m                               Traceback (most recent call last)",
      "\u001b[0;32m<ipython-input-55-3cc79d913dea>\u001b[0m in \u001b[0;36m<module>\u001b[0;34m\u001b[0m\n\u001b[1;32m     15\u001b[0m \u001b[0;34m\u001b[0m\u001b[0m\n\u001b[1;32m     16\u001b[0m \u001b[0mprint\u001b[0m\u001b[0;34m(\u001b[0m\u001b[0;34m\"-----------PARAFAC RANK 5-----------\"\u001b[0m\u001b[0;34m)\u001b[0m\u001b[0;34m\u001b[0m\u001b[0;34m\u001b[0m\u001b[0m\n\u001b[0;32m---> 17\u001b[0;31m \u001b[0mfactors\u001b[0m \u001b[0;34m=\u001b[0m \u001b[0mparafac\u001b[0m\u001b[0;34m(\u001b[0m\u001b[0mtensor\u001b[0m\u001b[0;34m,\u001b[0m \u001b[0mrank\u001b[0m\u001b[0;34m=\u001b[0m\u001b[0;36m5\u001b[0m\u001b[0;34m)\u001b[0m\u001b[0;34m\u001b[0m\u001b[0;34m\u001b[0m\u001b[0m\n\u001b[0m\u001b[1;32m     18\u001b[0m \u001b[0;31m#len(factors)\u001b[0m\u001b[0;34m\u001b[0m\u001b[0;34m\u001b[0m\u001b[0;34m\u001b[0m\u001b[0m\n\u001b[1;32m     19\u001b[0m \u001b[0mprint\u001b[0m\u001b[0;34m(\u001b[0m\u001b[0mtl\u001b[0m\u001b[0;34m.\u001b[0m\u001b[0mcp_to_tensor\u001b[0m\u001b[0;34m(\u001b[0m\u001b[0mfactors\u001b[0m\u001b[0;34m)\u001b[0m\u001b[0;34m)\u001b[0m\u001b[0;34m\u001b[0m\u001b[0;34m\u001b[0m\u001b[0m\n",
      "\u001b[0;32m/opt/anaconda3/lib/python3.8/site-packages/tensorly/decomposition/_cp.py\u001b[0m in \u001b[0;36mparafac\u001b[0;34m(tensor, rank, n_iter_max, init, svd, normalize_factors, orthogonalise, tol, random_state, verbose, return_errors, sparsity, l2_reg, mask, cvg_criterion, fixed_modes, svd_mask_repeats, linesearch)\u001b[0m\n\u001b[1;32m    326\u001b[0m                 \u001b[0mmttkrp\u001b[0m \u001b[0;34m=\u001b[0m \u001b[0munfolding_dot_khatri_rao\u001b[0m\u001b[0;34m(\u001b[0m\u001b[0mtensor\u001b[0m\u001b[0;34m,\u001b[0m \u001b[0;34m(\u001b[0m\u001b[0;32mNone\u001b[0m\u001b[0;34m,\u001b[0m \u001b[0mfactors\u001b[0m\u001b[0;34m)\u001b[0m\u001b[0;34m,\u001b[0m \u001b[0mmode\u001b[0m\u001b[0;34m)\u001b[0m\u001b[0;34m\u001b[0m\u001b[0;34m\u001b[0m\u001b[0m\n\u001b[1;32m    327\u001b[0m \u001b[0;34m\u001b[0m\u001b[0m\n\u001b[0;32m--> 328\u001b[0;31m             factor = tl.transpose(tl.solve(tl.conj(tl.transpose(pseudo_inverse)),\n\u001b[0m\u001b[1;32m    329\u001b[0m                                     tl.transpose(mttkrp)))\n\u001b[1;32m    330\u001b[0m \u001b[0;34m\u001b[0m\u001b[0m\n",
      "\u001b[0;32m/opt/anaconda3/lib/python3.8/site-packages/tensorly/backend/__init__.py\u001b[0m in \u001b[0;36minner\u001b[0;34m(*args, **kwargs)\u001b[0m\n\u001b[1;32m    159\u001b[0m \u001b[0;34m\u001b[0m\u001b[0m\n\u001b[1;32m    160\u001b[0m     \u001b[0;32mdef\u001b[0m \u001b[0minner\u001b[0m\u001b[0;34m(\u001b[0m\u001b[0;34m*\u001b[0m\u001b[0margs\u001b[0m\u001b[0;34m,\u001b[0m \u001b[0;34m**\u001b[0m\u001b[0mkwargs\u001b[0m\u001b[0;34m)\u001b[0m\u001b[0;34m:\u001b[0m\u001b[0;34m\u001b[0m\u001b[0;34m\u001b[0m\u001b[0m\n\u001b[0;32m--> 161\u001b[0;31m         \u001b[0;32mreturn\u001b[0m \u001b[0m_get_backend_method\u001b[0m\u001b[0;34m(\u001b[0m\u001b[0mname\u001b[0m\u001b[0;34m)\u001b[0m\u001b[0;34m(\u001b[0m\u001b[0;34m*\u001b[0m\u001b[0margs\u001b[0m\u001b[0;34m,\u001b[0m \u001b[0;34m**\u001b[0m\u001b[0mkwargs\u001b[0m\u001b[0;34m)\u001b[0m\u001b[0;34m\u001b[0m\u001b[0;34m\u001b[0m\u001b[0m\n\u001b[0m\u001b[1;32m    162\u001b[0m \u001b[0;34m\u001b[0m\u001b[0m\n\u001b[1;32m    163\u001b[0m     \u001b[0;31m# We don't use `functools.wraps` here because some of the dispatched\u001b[0m\u001b[0;34m\u001b[0m\u001b[0;34m\u001b[0m\u001b[0;34m\u001b[0m\u001b[0m\n",
      "\u001b[0;32m<__array_function__ internals>\u001b[0m in \u001b[0;36msolve\u001b[0;34m(*args, **kwargs)\u001b[0m\n",
      "\u001b[0;32m/opt/anaconda3/lib/python3.8/site-packages/numpy/linalg/linalg.py\u001b[0m in \u001b[0;36msolve\u001b[0;34m(a, b)\u001b[0m\n\u001b[1;32m    392\u001b[0m     \u001b[0msignature\u001b[0m \u001b[0;34m=\u001b[0m \u001b[0;34m'DD->D'\u001b[0m \u001b[0;32mif\u001b[0m \u001b[0misComplexType\u001b[0m\u001b[0;34m(\u001b[0m\u001b[0mt\u001b[0m\u001b[0;34m)\u001b[0m \u001b[0;32melse\u001b[0m \u001b[0;34m'dd->d'\u001b[0m\u001b[0;34m\u001b[0m\u001b[0;34m\u001b[0m\u001b[0m\n\u001b[1;32m    393\u001b[0m     \u001b[0mextobj\u001b[0m \u001b[0;34m=\u001b[0m \u001b[0mget_linalg_error_extobj\u001b[0m\u001b[0;34m(\u001b[0m\u001b[0m_raise_linalgerror_singular\u001b[0m\u001b[0;34m)\u001b[0m\u001b[0;34m\u001b[0m\u001b[0;34m\u001b[0m\u001b[0m\n\u001b[0;32m--> 394\u001b[0;31m     \u001b[0mr\u001b[0m \u001b[0;34m=\u001b[0m \u001b[0mgufunc\u001b[0m\u001b[0;34m(\u001b[0m\u001b[0ma\u001b[0m\u001b[0;34m,\u001b[0m \u001b[0mb\u001b[0m\u001b[0;34m,\u001b[0m \u001b[0msignature\u001b[0m\u001b[0;34m=\u001b[0m\u001b[0msignature\u001b[0m\u001b[0;34m,\u001b[0m \u001b[0mextobj\u001b[0m\u001b[0;34m=\u001b[0m\u001b[0mextobj\u001b[0m\u001b[0;34m)\u001b[0m\u001b[0;34m\u001b[0m\u001b[0;34m\u001b[0m\u001b[0m\n\u001b[0m\u001b[1;32m    395\u001b[0m \u001b[0;34m\u001b[0m\u001b[0m\n\u001b[1;32m    396\u001b[0m     \u001b[0;32mreturn\u001b[0m \u001b[0mwrap\u001b[0m\u001b[0;34m(\u001b[0m\u001b[0mr\u001b[0m\u001b[0;34m.\u001b[0m\u001b[0mastype\u001b[0m\u001b[0;34m(\u001b[0m\u001b[0mresult_t\u001b[0m\u001b[0;34m,\u001b[0m \u001b[0mcopy\u001b[0m\u001b[0;34m=\u001b[0m\u001b[0;32mFalse\u001b[0m\u001b[0;34m)\u001b[0m\u001b[0;34m)\u001b[0m\u001b[0;34m\u001b[0m\u001b[0;34m\u001b[0m\u001b[0m\n",
      "\u001b[0;32m/opt/anaconda3/lib/python3.8/site-packages/numpy/linalg/linalg.py\u001b[0m in \u001b[0;36m_raise_linalgerror_singular\u001b[0;34m(err, flag)\u001b[0m\n\u001b[1;32m     86\u001b[0m \u001b[0;34m\u001b[0m\u001b[0m\n\u001b[1;32m     87\u001b[0m \u001b[0;32mdef\u001b[0m \u001b[0m_raise_linalgerror_singular\u001b[0m\u001b[0;34m(\u001b[0m\u001b[0merr\u001b[0m\u001b[0;34m,\u001b[0m \u001b[0mflag\u001b[0m\u001b[0;34m)\u001b[0m\u001b[0;34m:\u001b[0m\u001b[0;34m\u001b[0m\u001b[0;34m\u001b[0m\u001b[0m\n\u001b[0;32m---> 88\u001b[0;31m     \u001b[0;32mraise\u001b[0m \u001b[0mLinAlgError\u001b[0m\u001b[0;34m(\u001b[0m\u001b[0;34m\"Singular matrix\"\u001b[0m\u001b[0;34m)\u001b[0m\u001b[0;34m\u001b[0m\u001b[0;34m\u001b[0m\u001b[0m\n\u001b[0m\u001b[1;32m     89\u001b[0m \u001b[0;34m\u001b[0m\u001b[0m\n\u001b[1;32m     90\u001b[0m \u001b[0;32mdef\u001b[0m \u001b[0m_raise_linalgerror_nonposdef\u001b[0m\u001b[0;34m(\u001b[0m\u001b[0merr\u001b[0m\u001b[0;34m,\u001b[0m \u001b[0mflag\u001b[0m\u001b[0;34m)\u001b[0m\u001b[0;34m:\u001b[0m\u001b[0;34m\u001b[0m\u001b[0;34m\u001b[0m\u001b[0m\n",
      "\u001b[0;31mLinAlgError\u001b[0m: Singular matrix"
     ]
    }
   ],
   "source": [
    "#------CANDECOMP-PARAFAC decomposition ------\n",
    "from tensorly.decomposition import parafac\n",
    "\n",
    "print(mode1_t2)\n",
    "print(\"-----------PARAFAC RANK 3-----------\")\n",
    "factors = parafac(mode1_t2, rank=3)\n",
    "#len(factors)\n",
    "print(tl.cp_to_tensor(factors))\n",
    "\n",
    "print(\"-----------PARAFAC RANK 5-----------\")\n",
    "factors = parafac(mode2_t2, rank=5)\n",
    "#len(factors)\n",
    "print(tl.cp_to_tensor(factors))\n"
   ]
  },
  {
   "cell_type": "code",
   "execution_count": 24,
   "metadata": {},
   "outputs": [
    {
     "name": "stdout",
     "output_type": "stream",
     "text": [
      "core:\n",
      "[[[-2.64103059e+02  1.17150187e-01  1.00346742e-14  7.68108105e-15\n",
      "   -1.34233197e-14]\n",
      "  [ 3.05577861e-02  1.39319177e+00 -4.15212652e-15 -4.91914753e-16\n",
      "   -1.61352565e-15]\n",
      "  [-1.86577504e-14 -2.35171697e-15 -5.08738986e-15  1.62382665e-15\n",
      "   -4.60831740e-17]\n",
      "  [ 2.18959354e-15  1.05950749e-15 -4.13590114e-15 -4.18319721e-15\n",
      "    6.26713102e-16]]\n",
      "\n",
      " [[-1.25280665e-02 -5.13749500e+00 -5.42566967e-16 -1.33469244e-15\n",
      "    6.32309140e-17]\n",
      "  [-2.07125283e+01 -1.48860567e+00 -3.05349764e-15  3.55083246e-15\n",
      "    9.66087306e-16]\n",
      "  [ 3.41628637e-15  1.56394469e-16  9.51222895e-16 -5.34828339e-16\n",
      "   -1.58260343e-16]\n",
      "  [-1.61189427e-14 -1.24129396e-15  4.12894016e-16  1.06741563e-15\n",
      "    3.89032184e-16]]\n",
      "\n",
      " [[-2.82093505e-14  1.02980415e-15  2.08430397e-17  6.44296997e-16\n",
      "   -4.29399168e-16]\n",
      "  [ 6.14554177e-15  2.80277551e-15  3.85347570e-17  1.19118078e-15\n",
      "   -7.93876172e-16]\n",
      "  [ 3.42968271e-15 -2.77874137e-16 -6.21697881e-18 -1.92178340e-16\n",
      "    1.28079472e-16]\n",
      "  [-4.93791506e-16  1.78565941e-15  2.79987847e-17  8.65494341e-16\n",
      "   -5.76818690e-16]]]\n",
      "core.shape:\n",
      "factors:\n",
      "[array([[-0.1736132 ,  0.89620968,  0.40824829],\n",
      "       [-0.50849656,  0.27343112, -0.81649658],\n",
      "       [-0.84337993, -0.34934743,  0.40824829]]), array([[-0.39804473, -0.73590787,  0.1187272 , -0.53469978],\n",
      "       [-0.46253128, -0.29336806,  0.24023876,  0.80142706],\n",
      "       [-0.52701782,  0.14917175, -0.8366591 ,  0.00124521],\n",
      "       [-0.59150437,  0.59171157,  0.47769315, -0.26797249]]), array([[-0.42434579, -0.64802057,  0.58330229,  0.12222438,  0.2117065 ],\n",
      "       [-0.4356371 , -0.33199445, -0.59804132, -0.57783519,  0.09194059],\n",
      "       [-0.44692842, -0.01596833, -0.42941149,  0.75878187, -0.19963929],\n",
      "       [-0.45821974,  0.30005778,  0.31973779, -0.27295568, -0.72336916],\n",
      "       [-0.46951105,  0.6160839 ,  0.12441273, -0.03021538,  0.61936137]])]\n"
     ]
    }
   ],
   "source": [
    "#------Tucker decomposition ------\n",
    "from tensorly.decomposition import tucker\n",
    "from tensorly import tucker_to_tensor\n",
    "\n",
    "core, factors = tucker(mode1_t2, rank=[3, 4, 5])\n",
    "\n",
    "print('core:')\n",
    "print(core)\n",
    "\n",
    "print('core.shape:')\n",
    "core.shape\n",
    "\n",
    "print('factors:')\n",
    "print(factors)\n"
   ]
  },
  {
   "cell_type": "code",
   "execution_count": 52,
   "metadata": {},
   "outputs": [
    {
     "name": "stdout",
     "output_type": "stream",
     "text": [
      "[[ 0.  0.  0.  0.  0.  0.  0.  0.  0.  0.  0.  0.]\n",
      " [ 0.  0.  0.  0.  1.  1.  1.  1.  0.  0.  0. -0.]\n",
      " [ 0.  0.  0.  0.  1.  1.  1.  1.  0.  0.  0. -0.]\n",
      " [ 0.  0.  0.  0.  1.  1.  1.  1.  0.  0.  0. -0.]\n",
      " [ 0.  1.  1.  1.  1.  1.  1.  1.  1.  1.  1. -0.]\n",
      " [ 0.  1.  1.  1.  1.  1.  1.  1.  1.  1.  1. -0.]\n",
      " [ 0.  1.  1.  1.  1.  1.  1.  1.  1.  1.  1. -0.]\n",
      " [ 0.  1.  1.  1.  1.  1.  1.  1.  1.  1.  1. -0.]\n",
      " [ 0.  0.  0.  0.  1.  1.  1.  1.  0.  0.  0. -0.]\n",
      " [ 0.  0.  0.  0.  1.  1.  1.  1.  0.  0.  0. -0.]\n",
      " [ 0.  0.  0.  0.  1.  1.  1.  1.  0.  0.  0. -0.]\n",
      " [ 0.  0.  0.  0.  0.  0.  0.  0.  0.  0.  0.  0.]]\n"
     ]
    }
   ],
   "source": [
    "#------- Tensor Train Decomposition -------\n",
    "\n",
    "import numpy as np\n",
    "import tensorly as tl\n",
    "from tensorly import tt_to_tensor\n",
    "#from tensorly.decomposition import matrix_product_state\n",
    "\n",
    "tensor = tl.tensor([[ 0.,  0.,  0.,  0.,  0.,  0.,  0.,  0.,  0.,  0.,  0.,  0.],\n",
    "                    [ 0.,  0.,  0.,  0.,  1.,  1.,  1.,  1.,  0.,  0.,  0.,  0.],\n",
    "                    [ 0.,  0.,  0.,  0.,  1.,  1.,  1.,  1.,  0.,  0.,  0.,  0.],\n",
    "                    [ 0.,  0.,  0.,  0.,  1.,  1.,  1.,  1.,  0.,  0.,  0.,  0.],\n",
    "                    [ 0.,  1.,  1.,  1.,  1.,  1.,  1.,  1.,  1.,  1.,  1.,  0.],\n",
    "                    [ 0.,  1.,  1.,  1.,  1.,  1.,  1.,  1.,  1.,  1.,  1.,  0.],\n",
    "                    [ 0.,  1.,  1.,  1.,  1.,  1.,  1.,  1.,  1.,  1.,  1.,  0.],\n",
    "                    [ 0.,  1.,  1.,  1.,  1.,  1.,  1.,  1.,  1.,  1.,  1.,  0.],\n",
    "                    [ 0.,  0.,  0.,  0.,  1.,  1.,  1.,  1.,  0.,  0.,  0.,  0.],\n",
    "                    [ 0.,  0.,  0.,  0.,  1.,  1.,  1.,  1.,  0.,  0.,  0.,  0.],\n",
    "                    [ 0.,  0.,  0.,  0.,  1.,  1.,  1.,  1.,  0.,  0.,  0.,  0.],\n",
    "                    [ 0.,  0.,  0.,  0.,  0.,  0.,  0.,  0.,  0.,  0.,  0.,  0.]])\n",
    "\n",
    "factors2 = matrix_product_state(tensor, rank=[1,2,1])\n",
    "len(factors)\n",
    "\n",
    "[f.shape for f in factors]\n",
    "\n",
    "print(np.round(tt_to_tensor(factors2), decimals=10))"
   ]
  },
  {
   "cell_type": "code",
   "execution_count": null,
   "metadata": {},
   "outputs": [],
   "source": []
  }
 ],
 "metadata": {
  "kernelspec": {
   "display_name": "Python 3",
   "language": "python",
   "name": "python3"
  },
  "language_info": {
   "codemirror_mode": {
    "name": "ipython",
    "version": 3
   },
   "file_extension": ".py",
   "mimetype": "text/x-python",
   "name": "python",
   "nbconvert_exporter": "python",
   "pygments_lexer": "ipython3",
   "version": "3.8.5"
  }
 },
 "nbformat": 4,
 "nbformat_minor": 4
}
