{
 "cells": [
  {
   "cell_type": "code",
   "execution_count": 2,
   "metadata": {},
   "outputs": [
    {
     "data": {
      "text/plain": [
       "array([[-2.2493483 ,  0.3568316 ],\n",
       "       [-3.04335106,  0.4621123 ],\n",
       "       [-4.54271653, -0.38846042],\n",
       "       [ 0.42860449, -0.92318684],\n",
       "       [ 1.43645935,  0.95897503],\n",
       "       [ 1.92796996, -0.07261413],\n",
       "       [ 2.61504667, -1.17161612],\n",
       "       [ 3.42733543,  0.77795858]])"
      ]
     },
     "execution_count": 2,
     "metadata": {},
     "output_type": "execute_result"
    }
   ],
   "source": [
    "#----- PCA ------\n",
    "import numpy as np\n",
    "from sklearn.decomposition import PCA\n",
    "from sklearn.decomposition import IncrementalPCA\n",
    "\n",
    "X = np.array([[-1, -1,2], [-2, -1,2], [-3, -2,1], [1, 1,1], [2, 1,3], [2,2,2] ,[3, 2,1], [3,3,3]])\n",
    "ipca = IncrementalPCA(n_components=2)\n",
    "ipca.fit(X)\n",
    "ipca.transform(X)"
   ]
  },
  {
   "cell_type": "code",
   "execution_count": 10,
   "metadata": {},
   "outputs": [
    {
     "name": "stdout",
     "output_type": "stream",
     "text": [
      "A:\n",
      "array([[ 6,  3,  4,  8],\n",
      "       [ 3,  6,  5,  1],\n",
      "       [ 4,  5, 10,  7],\n",
      "       [ 8,  1,  7, 25]])\n",
      "L:\n",
      "array([[ 2.44948974,  0.        ,  0.        ,  0.        ],\n",
      "       [ 1.22474487,  2.12132034,  0.        ,  0.        ],\n",
      "       [ 1.63299316,  1.41421356,  2.30940108,  0.        ],\n",
      "       [ 3.26598632, -1.41421356,  1.58771324,  3.13249102]])\n",
      "U:\n",
      "array([[ 2.44948974,  1.22474487,  1.63299316,  3.26598632],\n",
      "       [ 0.        ,  2.12132034,  1.41421356, -1.41421356],\n",
      "       [ 0.        ,  0.        ,  2.30940108,  1.58771324],\n",
      "       [ 0.        ,  0.        ,  0.        ,  3.13249102]])\n"
     ]
    },
    {
     "name": "stderr",
     "output_type": "stream",
     "text": [
      "<ipython-input-10-54a357e9e530>:5: DeprecationWarning: scipy.array is deprecated and will be removed in SciPy 2.0.0, use numpy.array instead\n",
      "  A = scipy.array([[6, 3, 4, 8], [3, 6, 5, 1], [4, 5, 10, 7], [8, 1, 7, 25]])\n"
     ]
    }
   ],
   "source": [
    "#----- Cholskey decomposition\n",
    "\n",
    "import pprint\n",
    "import scipy\n",
    "import scipy.linalg\n",
    "\n",
    "A = scipy.array([[6, 3, 4, 8], [3, 6, 5, 1], [4, 5, 10, 7], [8, 1, 7, 25]])\n",
    "L = scipy.linalg.cholesky(A, lower=True)\n",
    "U = scipy.linalg.cholesky(A, lower=False)\n",
    "\n",
    "print('A:')\n",
    "pprint.pprint(A)\n",
    "\n",
    "print ('L:')\n",
    "pprint.pprint(L)\n",
    "\n",
    "print ('U:')\n",
    "pprint.pprint(U)"
   ]
  },
  {
   "cell_type": "code",
   "execution_count": 13,
   "metadata": {},
   "outputs": [
    {
     "data": {
      "text/plain": [
       "array([[-2.27569514],\n",
       "       [-3.07440019],\n",
       "       [-4.47482797],\n",
       "       [ 0.52516042],\n",
       "       [ 1.32386547],\n",
       "       [ 1.9255882 ],\n",
       "       [ 2.72429325],\n",
       "       [ 3.32601598]])"
      ]
     },
     "execution_count": 13,
     "metadata": {},
     "output_type": "execute_result"
    }
   ],
   "source": [
    "\n",
    "#---- PCA toy example --------\n",
    "import numpy as np\n",
    "from sklearn.decomposition import PCA\n",
    "from sklearn.decomposition import IncrementalPCA\n",
    "\n",
    "X = np.array([[-1, -1], [-2, -1], [-3, -2], [1, 1], [2, 1], [2,2] ,[3, 2],[3,3]])\n",
    "ipca = IncrementalPCA(n_components=1) # IncrementalPCA is better than PCA, because it manages memory\n",
    "ipca.fit(X)\n",
    "IncrementalPCA(n_components=1)\n",
    "ipca.transform(X)\n"
   ]
  },
  {
   "cell_type": "code",
   "execution_count": 16,
   "metadata": {},
   "outputs": [
    {
     "name": "stdout",
     "output_type": "stream",
     "text": [
      "Original Array:\n",
      "[[1.  1. ]\n",
      " [2.  1. ]\n",
      " [3.  1.2]\n",
      " [4.  1. ]\n",
      " [5.  0.8]\n",
      " [6.  1. ]]\n",
      "W:\n",
      "[[0.         0.46880684]\n",
      " [0.55699523 0.3894146 ]\n",
      " [1.00331638 0.41925352]\n",
      " [1.6733999  0.22926926]\n",
      " [2.34349311 0.03927954]\n",
      " [2.78981512 0.06911798]]\n",
      "H:\n",
      "[[2.09783018 0.30560234]\n",
      " [2.13443044 2.13171694]]\n"
     ]
    }
   ],
   "source": [
    "#------  NMF decompotion ------\n",
    "import numpy as np\n",
    "X = np.array([[1, 1], [2, 1], [3, 1.2], [4, 1], [5, 0.8], [6, 1]])\n",
    "from sklearn.decomposition import NMF\n",
    "model = NMF(n_components=2, init='random', random_state=0)\n",
    "W = model.fit_transform(X)\n",
    "H = model.components_\n",
    "print('Original Array:')\n",
    "print(X)\n",
    "print('W:')\n",
    "print(W)\n",
    "print('H:')\n",
    "print(H)"
   ]
  },
  {
   "cell_type": "code",
   "execution_count": 17,
   "metadata": {},
   "outputs": [
    {
     "name": "stdout",
     "output_type": "stream",
     "text": [
      "[[5 2]\n",
      " [2 4]\n",
      " [4 6]]\n",
      "[[-0.4982452   0.85474423 -0.14547859]\n",
      " [-0.44889151 -0.39785019 -0.80013226]\n",
      " [-0.74178712 -0.33335795  0.58191437]]\n",
      "[9.63631611 2.85331592]\n",
      "[[-0.6596045  -0.75161287]\n",
      " [ 0.75161287 -0.6596045 ]]\n"
     ]
    }
   ],
   "source": [
    "from numpy import array\n",
    "from scipy.linalg import svd\n",
    "# define a matrix\n",
    "A = array([[5, 2], [2, 4], [4, 6]])\n",
    "print(A)\n",
    "# SVD\n",
    "U, s, VT = svd(A)\n",
    "print(U)\n",
    "print(s)\n",
    "print(VT)"
   ]
  },
  {
   "cell_type": "code",
   "execution_count": 2,
   "metadata": {},
   "outputs": [
    {
     "data": {
      "text/plain": [
       "array([[-0.16803946],\n",
       "       [-1.34431567],\n",
       "       [-1.44772457],\n",
       "       [ 0.03877834],\n",
       "       [ 1.21505455],\n",
       "       [ 0.14218723],\n",
       "       [ 1.31846345],\n",
       "       [ 0.24559613]])"
      ]
     },
     "execution_count": 2,
     "metadata": {},
     "output_type": "execute_result"
    }
   ],
   "source": [
    "#----LDA dimensionality reduction toy example ------\n",
    "import numpy as np\n",
    "#from sklearn.lda import LDA\n",
    "from sklearn.discriminant_analysis import LinearDiscriminantAnalysis as LDA\n",
    "\n",
    "X = np.array([[-1, -1], [-2, -1], [-3, -2], [1, 1], [2, 1], [2,2] ,[3, 2], [3,3]])\n",
    "Y = np.array([1, 1, 1, 1, 2, 2,1,1]) # Y is used for class labels (blue and red)\n",
    "trf = LDA() \n",
    "trf.fit(X,Y)\n",
    "trf.transform(X)\n"
   ]
  },
  {
   "cell_type": "code",
   "execution_count": 3,
   "metadata": {},
   "outputs": [
    {
     "data": {
      "text/plain": [
       "array([ 4.5       -0.j        ,  2.08155948-1.65109876j,\n",
       "       -1.83155948+1.60822041j, -1.83155948-1.60822041j,\n",
       "        2.08155948+1.65109876j])"
      ]
     },
     "execution_count": 3,
     "metadata": {},
     "output_type": "execute_result"
    }
   ],
   "source": [
    "from scipy.fftpack import fft, ifft\n",
    "import numpy as np\n",
    "x = np.array([1.0, 2.0, 1.0, -1.0, 1.5])\n",
    "y = fft(x)\n",
    "y"
   ]
  },
  {
   "cell_type": "code",
   "execution_count": null,
   "metadata": {},
   "outputs": [],
   "source": []
  }
 ],
 "metadata": {
  "kernelspec": {
   "display_name": "Python 3",
   "language": "python",
   "name": "python3"
  },
  "language_info": {
   "codemirror_mode": {
    "name": "ipython",
    "version": 3
   },
   "file_extension": ".py",
   "mimetype": "text/x-python",
   "name": "python",
   "nbconvert_exporter": "python",
   "pygments_lexer": "ipython3",
   "version": "3.8.5"
  }
 },
 "nbformat": 4,
 "nbformat_minor": 4
}
