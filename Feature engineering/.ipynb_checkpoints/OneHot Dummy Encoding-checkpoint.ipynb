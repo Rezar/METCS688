{
 "cells": [
  {
   "cell_type": "code",
   "execution_count": 13,
   "metadata": {},
   "outputs": [
    {
     "name": "stdout",
     "output_type": "stream",
     "text": [
      "['chicken' 'chicken' 'cat' 'chicken' 'dog' 'dog' 'mouse' 'horse' 'chicken'\n",
      " 'dog' 'horse']\n",
      "[[0. 1. 0. 0. 0.]\n",
      " [0. 1. 0. 0. 0.]\n",
      " [1. 0. 0. 0. 0.]\n",
      " [0. 1. 0. 0. 0.]\n",
      " [0. 0. 1. 0. 0.]\n",
      " [0. 0. 1. 0. 0.]\n",
      " [0. 0. 0. 0. 1.]\n",
      " [0. 0. 0. 1. 0.]\n",
      " [0. 1. 0. 0. 0.]\n",
      " [0. 0. 1. 0. 0.]\n",
      " [0. 0. 0. 1. 0.]]\n"
     ]
    }
   ],
   "source": [
    "# ----- One hot encoding --------\n",
    "from numpy import array\n",
    "from numpy import argmax\n",
    "from sklearn.preprocessing import LabelEncoder\n",
    "from sklearn.preprocessing import OneHotEncoder\n",
    "# define example\n",
    "sampledata = ['chicken', 'chicken', 'cat', 'chicken', 'dog', 'dog', 'mouse', 'horse', 'chicken', 'dog', 'horse']\n",
    "values = array(sampledata)\n",
    "print(values)\n",
    "# binary encode\n",
    "onehot_encoder = OneHotEncoder(sparse=False)\n",
    "print(onehot_encoded)"
   ]
  },
  {
   "cell_type": "code",
   "execution_count": 9,
   "metadata": {},
   "outputs": [
    {
     "name": "stdout",
     "output_type": "stream",
     "text": [
      "['chicken' 'chicken' 'cat' 'chicken' 'dog' 'dog' 'mouse' 'horse' 'chicken'\n",
      " 'dog' 'horse']\n",
      "one-hot encoded:\n",
      "    0  1  2  3  4\n",
      "0   0  1  0  0  0\n",
      "1   0  1  0  0  0\n",
      "2   1  0  0  0  0\n",
      "3   0  1  0  0  0\n",
      "4   0  0  1  0  0\n",
      "5   0  0  1  0  0\n",
      "6   0  0  0  0  1\n",
      "7   0  0  0  1  0\n",
      "8   0  1  0  0  0\n",
      "9   0  0  1  0  0\n",
      "10  0  0  0  1  0\n"
     ]
    }
   ],
   "source": [
    "#------- One hot coding ---------\n",
    "from numpy import array\n",
    "from numpy import argmax\n",
    "from sklearn.preprocessing import LabelBinarizer\n",
    "import pandas as pd\n",
    "\n",
    "\n",
    "# define example\n",
    "sampledata = ['chicken', 'chicken', 'cat', 'chicken', 'dog', 'dog', 'mouse', 'horse', 'chicken', 'dog', 'horse']\n",
    "values = array(sampledata)\n",
    "print(values)\n",
    "\n",
    "lb = LabelBinarizer()\n",
    "lb_results = lb.fit_transform(sampledata)\n",
    "lb_results_df = pd.DataFrame(lb_results)\n",
    "\n",
    "print(\"one-hot encoded:\")\n",
    "print(lb_results_df)\n"
   ]
  },
  {
   "cell_type": "code",
   "execution_count": 12,
   "metadata": {},
   "outputs": [
    {
     "name": "stdout",
     "output_type": "stream",
     "text": [
      "dummies:\n",
      "    chicken  dog  horse  mouse\n",
      "0         1    0      0      0\n",
      "1         1    0      0      0\n",
      "2         0    0      0      0\n",
      "3         1    0      0      0\n",
      "4         0    1      0      0\n",
      "5         0    1      0      0\n",
      "6         0    0      0      1\n",
      "7         0    0      1      0\n",
      "8         1    0      0      0\n",
      "9         0    1      0      0\n",
      "10        0    0      1      0\n"
     ]
    }
   ],
   "source": [
    "\n",
    "#------ Dummy coding -------------\n",
    "import pandas as pd\n",
    "\n",
    "df = pd.DataFrame(data=sampledata, columns=['dummy'])\n",
    "dummies = pd.get_dummies(df['dummy'],drop_first=True)\n",
    "print(\"dummies:\")\n",
    "print(dummies)"
   ]
  },
  {
   "cell_type": "code",
   "execution_count": null,
   "metadata": {},
   "outputs": [],
   "source": []
  }
 ],
 "metadata": {
  "kernelspec": {
   "display_name": "Python 3",
   "language": "python",
   "name": "python3"
  },
  "language_info": {
   "codemirror_mode": {
    "name": "ipython",
    "version": 3
   },
   "file_extension": ".py",
   "mimetype": "text/x-python",
   "name": "python",
   "nbconvert_exporter": "python",
   "pygments_lexer": "ipython3",
   "version": "3.8.5"
  }
 },
 "nbformat": 4,
 "nbformat_minor": 4
}
