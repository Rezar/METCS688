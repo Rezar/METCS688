{
 "cells": [
  {
   "cell_type": "code",
   "execution_count": 5,
   "metadata": {},
   "outputs": [],
   "source": [
    "from opensimplex import OpenSimplex\n",
    "from PIL import Image\n",
    "\n",
    "height = 1000\n",
    "width = 1000\n",
    "\n",
    "\n",
    "simplex = OpenSimplex()\n",
    "im = Image.new('L', (width, height))\n",
    "for y in range(0, height):\n",
    "    for x in range(0, width):\n",
    "        value = simplex.noise2d(x , y )\n",
    "        color = int((value + 1) * 128)\n",
    "        im.putpixel((x, y), color)\n",
    "im.save('noise2d.png')\n",
    "im.show()"
   ]
  },
  {
   "cell_type": "code",
   "execution_count": null,
   "metadata": {},
   "outputs": [],
   "source": []
  },
  {
   "cell_type": "code",
   "execution_count": null,
   "metadata": {},
   "outputs": [],
   "source": []
  }
 ],
 "metadata": {
  "kernelspec": {
   "display_name": "Python 3",
   "language": "python",
   "name": "python3"
  },
  "language_info": {
   "codemirror_mode": {
    "name": "ipython",
    "version": 3
   },
   "file_extension": ".py",
   "mimetype": "text/x-python",
   "name": "python",
   "nbconvert_exporter": "python",
   "pygments_lexer": "ipython3",
   "version": "3.7.1"
  }
 },
 "nbformat": 4,
 "nbformat_minor": 4
}
