{
 "cells": [
  {
   "cell_type": "code",
   "execution_count": 2,
   "metadata": {},
   "outputs": [
    {
     "name": "stderr",
     "output_type": "stream",
     "text": [
      "[nltk_data] Downloading package punkt to\n",
      "[nltk_data]     /Users/rawassizadeh/nltk_data...\n",
      "[nltk_data]   Package punkt is already up-to-date!\n"
     ]
    },
    {
     "name": "stdout",
     "output_type": "stream",
     "text": [
      "Cosine similarity between 'banana' and 'orange' - CBOW :  0.99688673\n",
      "Cosine similarity between 'witch' and 'devil' - CBOW :  0.9738145\n",
      "Cosine similarity between 'banana' and 'orange' - Skip Gram :  0.84919095\n",
      "Cosine similarity between 'jose' and 'devil' - Skip Gram :  0.6902922\n"
     ]
    }
   ],
   "source": [
    "# Python example to generate word vectors using Word2Vec \n",
    "from nltk.tokenize import sent_tokenize, word_tokenize \n",
    "\n",
    "import nltk\n",
    "nltk.download('punkt')\n",
    "\n",
    "import warnings \n",
    "warnings.filterwarnings(action = 'ignore') \n",
    "  \n",
    "import gensim \n",
    "from gensim.models import Word2Vec \n",
    "\n",
    "# source to download https://archive.org/stream/OneHundredYearsOfSolitude_201710/One_Hundred_Years_of_Solitude_djvu.txt\n",
    "#  Reads ‘ggmarques.txt’ file \n",
    "sample = open('/Users/rawassizadeh/EVERYTHING/Work/TEACHING/CS 688_WebAnalyticsMining/toGithub/Feature Engineering/ggmarques.txt', \"r\") \n",
    "s = sample.read() \n",
    "  \n",
    "# Replaces escape character with space \n",
    "f = s.replace(\"\\n\", \" \") \n",
    "  \n",
    "data = [] \n",
    "  \n",
    "# iterate through each sentence in the file \n",
    "for i in sent_tokenize(f): \n",
    "    temp = [] \n",
    "      \n",
    "    # tokenize the sentence into words \n",
    "    for j in word_tokenize(i): \n",
    "        temp.append(j.lower()) \n",
    "  \n",
    "    data.append(temp) \n",
    "  \n",
    "#------ Create CBOW model \n",
    "model1 = gensim.models.Word2Vec(data, min_count = 1,  \n",
    "                              size = 100, window = 5) \n",
    "  \n",
    "# Print results \n",
    "print(\"Cosine similarity between 'banana' and 'orange' - CBOW : \", \n",
    "    model1.similarity('banana', 'orange')) \n",
    "      \n",
    "print(\"Cosine similarity between 'witch' and 'devil' - CBOW : \", \n",
    "      model1.similarity('witch', 'devil')) \n",
    "  \n",
    "#------ Create Skip Gram model \n",
    "model2 = gensim.models.Word2Vec(data, min_count = 1, size = 100, \n",
    "                                             window = 5, sg = 1) \n",
    "  \n",
    "# Print results \n",
    "print(\"Cosine similarity between 'banana' and 'orange' - Skip Gram : \", \n",
    "    model2.similarity('banana', 'orange')) \n",
    "      \n",
    "print(\"Cosine similarity between 'jose' and 'devil' - Skip Gram : \", \n",
    "      model2.similarity('jose', 'devil'))"
   ]
  },
  {
   "cell_type": "code",
   "execution_count": null,
   "metadata": {},
   "outputs": [],
   "source": []
  }
 ],
 "metadata": {
  "kernelspec": {
   "display_name": "Python 3",
   "language": "python",
   "name": "python3"
  },
  "language_info": {
   "codemirror_mode": {
    "name": "ipython",
    "version": 3
   },
   "file_extension": ".py",
   "mimetype": "text/x-python",
   "name": "python",
   "nbconvert_exporter": "python",
   "pygments_lexer": "ipython3",
   "version": "3.8.5"
  }
 },
 "nbformat": 4,
 "nbformat_minor": 4
}
