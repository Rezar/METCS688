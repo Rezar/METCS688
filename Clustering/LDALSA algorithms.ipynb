{
 "cells": [
  {
   "cell_type": "code",
   "execution_count": 2,
   "metadata": {},
   "outputs": [
    {
     "name": "stderr",
     "output_type": "stream",
     "text": [
      "/opt/anaconda3/lib/python3.8/site-packages/ipykernel/ipkernel.py:287: DeprecationWarning: `should_run_async` will not call `transform_cell` automatically in the future. Please pass the result to `transformed_cell` argument and any exception that happen during thetransform in `preprocessing_exc_tuple` in IPython 7.17 and above.\n",
      "  and should_run_async(code)\n",
      "/opt/anaconda3/lib/python3.8/site-packages/sklearn/feature_extraction/image.py:172: DeprecationWarning: `np.int` is a deprecated alias for the builtin `int`. To silence this warning, use `int` by itself. Doing this will not modify any behavior and is safe. When replacing `np.int`, you may wish to use e.g. `np.int64` or `np.int32` to specify the precision. If you wish to review your current use, check the release note link for additional information.\n",
      "Deprecated in NumPy 1.20; for more details and guidance: https://numpy.org/devdocs/release/1.20.0-notes.html#deprecations\n",
      "  dtype=np.int):\n"
     ]
    }
   ],
   "source": [
    "# source: https://www.datacamp.com/community/tutorials/discovering-hidden-topics-python\n",
    "import os\n",
    "import pandas as pd\n",
    "from nltk.tokenize import RegexpTokenizer\n",
    "from sklearn.feature_extraction.text import TfidfVectorizer\n",
    "from sklearn.decomposition import TruncatedSVD\n",
    "\n",
    "# Load Dataset\n",
    "documents_list = []\n",
    "with open( os.path.join(\"/Users/rawassizadeh/EVERYTHING/Work/TEACHING/CS 688_WebAnalyticsMining/toGithub/Clustering/articles.txt\") ,\"r\") as fin:\n",
    "    for line in fin.readlines():\n",
    "        text = line.strip()\n",
    "        documents_list.append(text)\n",
    "        \n",
    "# Initialize regex tokenizer\n",
    "tokenizer = RegexpTokenizer(r'\\w+')\n",
    "\n",
    "# Vectorize document using TF-IDF\n",
    "tfidf = TfidfVectorizer(lowercase=True,\n",
    "                        stop_words='english',\n",
    "                        ngram_range = (1,1),\n",
    "                        tokenizer = tokenizer.tokenize)\n",
    "\n",
    "# Fit and Transform the documents\n",
    "train_data = tfidf.fit_transform(documents_list)   "
   ]
  },
  {
   "cell_type": "code",
   "execution_count": 3,
   "metadata": {},
   "outputs": [
    {
     "name": "stderr",
     "output_type": "stream",
     "text": [
      "/opt/anaconda3/lib/python3.8/site-packages/ipykernel/ipkernel.py:287: DeprecationWarning: `should_run_async` will not call `transform_cell` automatically in the future. Please pass the result to `transformed_cell` argument and any exception that happen during thetransform in `preprocessing_exc_tuple` in IPython 7.17 and above.\n",
      "  and should_run_async(code)\n"
     ]
    },
    {
     "name": "stdout",
     "output_type": "stream",
     "text": [
      "Topic 0:  ['s', 'trump', 'said', 'eu', 't']\n",
      "Topic 1:  ['trump', 'clinton', 'republican', 'donald', 'cruz']\n",
      "Topic 2:  ['s', 'league', 'season', 'min', 'leicester']\n",
      "Topic 3:  ['eu', 'league', 'min', 'season', 'brexit']\n",
      "Topic 4:  ['bank', 'banks', 'banking', 'rbs', 'financial']\n",
      "Topic 5:  ['health', 'nhs', 'care', 'mental', 'patients']\n",
      "Topic 6:  ['min', 'ball', 'corner', 'yards', 'goal']\n",
      "Topic 7:  ['facebook', 'internet', 'online', 'users', 'twitter']\n",
      "Topic 8:  ['film', 'films', 'movie', 'women', 'director']\n",
      "Topic 9:  ['labour', 'party', 'bank', 'corbyn', 'film']\n"
     ]
    }
   ],
   "source": [
    "# Define the number of topics or components\n",
    "num_components=10\n",
    "\n",
    "# Create SVD object\n",
    "lsa = TruncatedSVD(n_components=num_components, n_iter=100, random_state=42)\n",
    "\n",
    "# Fit SVD model on data\n",
    "lsa.fit_transform(train_data)\n",
    "\n",
    "# Get Singular values and Components \n",
    "Sigma = lsa.singular_values_ \n",
    "V_transpose = lsa.components_.T\n",
    "\n",
    "# Print the topics with their terms\n",
    "terms = tfidf.get_feature_names()\n",
    "\n",
    "for index, component in enumerate(lsa.components_):\n",
    "    zipped = zip(terms, component)\n",
    "    top_terms_key=sorted(zipped, key = lambda t: t[1], reverse=True)[:5]\n",
    "    top_terms_list=list(dict(top_terms_key).keys())\n",
    "    print(\"Topic \"+str(index)+\": \",top_terms_list)"
   ]
  },
  {
   "cell_type": "code",
   "execution_count": 4,
   "metadata": {},
   "outputs": [
    {
     "name": "stderr",
     "output_type": "stream",
     "text": [
      "/opt/anaconda3/lib/python3.8/site-packages/ipykernel/ipkernel.py:287: DeprecationWarning: `should_run_async` will not call `transform_cell` automatically in the future. Please pass the result to `transformed_cell` argument and any exception that happen during thetransform in `preprocessing_exc_tuple` in IPython 7.17 and above.\n",
      "  and should_run_async(code)\n"
     ]
    },
    {
     "name": "stdout",
     "output_type": "stream",
     "text": [
      "Requirement already satisfied: stop_words in /opt/anaconda3/lib/python3.8/site-packages (2018.7.23)\n",
      "Requirement already satisfied: pyLDAvis in /opt/anaconda3/lib/python3.8/site-packages (3.3.1)\n",
      "Requirement already satisfied: joblib in /opt/anaconda3/lib/python3.8/site-packages (from pyLDAvis) (0.17.0)\n",
      "Requirement already satisfied: numexpr in /opt/anaconda3/lib/python3.8/site-packages (from pyLDAvis) (2.7.1)\n",
      "Requirement already satisfied: scipy in /opt/anaconda3/lib/python3.8/site-packages (from pyLDAvis) (1.5.2)\n",
      "Requirement already satisfied: gensim in /opt/anaconda3/lib/python3.8/site-packages (from pyLDAvis) (3.8.3)\n",
      "Requirement already satisfied: numpy>=1.20.0 in /opt/anaconda3/lib/python3.8/site-packages (from pyLDAvis) (1.21.2)\n",
      "Requirement already satisfied: future in /opt/anaconda3/lib/python3.8/site-packages (from pyLDAvis) (0.18.2)\n",
      "Requirement already satisfied: funcy in /opt/anaconda3/lib/python3.8/site-packages (from pyLDAvis) (1.16)\n",
      "Requirement already satisfied: sklearn in /opt/anaconda3/lib/python3.8/site-packages (from pyLDAvis) (0.0)\n",
      "Requirement already satisfied: scikit-learn in /opt/anaconda3/lib/python3.8/site-packages (from pyLDAvis) (0.23.2)\n",
      "Requirement already satisfied: setuptools in /opt/anaconda3/lib/python3.8/site-packages (from pyLDAvis) (50.3.1.post20201107)\n",
      "Requirement already satisfied: jinja2 in /opt/anaconda3/lib/python3.8/site-packages (from pyLDAvis) (2.11.2)\n",
      "Requirement already satisfied: pandas>=1.2.0 in /opt/anaconda3/lib/python3.8/site-packages (from pyLDAvis) (1.3.2)\n",
      "Requirement already satisfied: six>=1.5.0 in /opt/anaconda3/lib/python3.8/site-packages (from gensim->pyLDAvis) (1.15.0)\n",
      "Requirement already satisfied: smart-open>=1.8.1 in /opt/anaconda3/lib/python3.8/site-packages (from gensim->pyLDAvis) (4.2.0)\n",
      "Requirement already satisfied: threadpoolctl>=2.0.0 in /opt/anaconda3/lib/python3.8/site-packages (from scikit-learn->pyLDAvis) (2.1.0)\n",
      "Requirement already satisfied: MarkupSafe>=0.23 in /opt/anaconda3/lib/python3.8/site-packages (from jinja2->pyLDAvis) (1.1.1)\n",
      "Requirement already satisfied: python-dateutil>=2.7.3 in /opt/anaconda3/lib/python3.8/site-packages (from pandas>=1.2.0->pyLDAvis) (2.8.1)\n",
      "Requirement already satisfied: pytz>=2017.3 in /opt/anaconda3/lib/python3.8/site-packages (from pandas>=1.2.0->pyLDAvis) (2020.1)\n"
     ]
    },
    {
     "name": "stderr",
     "output_type": "stream",
     "text": [
      "/opt/anaconda3/lib/python3.8/site-packages/scipy/sparse/sparsetools.py:21: DeprecationWarning: `scipy.sparse.sparsetools` is deprecated!\n",
      "scipy.sparse.sparsetools is a private module for scipy.sparse, and should not be used.\n",
      "  _deprecated()\n"
     ]
    }
   ],
   "source": [
    "! pip install stop_words\n",
    "! pip install pyLDAvis\n",
    "\n",
    "#-------------- LDA example -----------\n",
    "from nltk.tokenize import RegexpTokenizer\n",
    "from stop_words import get_stop_words\n",
    "from nltk.stem.porter import PorterStemmer\n",
    "from gensim import corpora, models\n",
    "import gensim\n"
   ]
  },
  {
   "cell_type": "code",
   "execution_count": 5,
   "metadata": {},
   "outputs": [
    {
     "name": "stdout",
     "output_type": "stream",
     "text": [
      "[(0, '0.086*\"health\" + 0.086*\"brocolli\" + 0.086*\"good\" + 0.061*\"eat\" + 0.037*\"blood\" + 0.037*\"caus\" + 0.037*\"may\" + 0.037*\"suggest\" + 0.037*\"expert\" + 0.037*\"tension\"'), (1, '0.068*\"mother\" + 0.068*\"brother\" + 0.068*\"drive\" + 0.041*\"pressur\" + 0.040*\"around\" + 0.040*\"spend\" + 0.040*\"basebal\" + 0.040*\"lot\" + 0.040*\"time\" + 0.040*\"practic\"')]\n"
     ]
    },
    {
     "name": "stderr",
     "output_type": "stream",
     "text": [
      "/opt/anaconda3/lib/python3.8/site-packages/ipykernel/ipkernel.py:287: DeprecationWarning: `should_run_async` will not call `transform_cell` automatically in the future. Please pass the result to `transformed_cell` argument and any exception that happen during thetransform in `preprocessing_exc_tuple` in IPython 7.17 and above.\n",
      "  and should_run_async(code)\n"
     ]
    }
   ],
   "source": [
    "tokenizer = RegexpTokenizer(r'\\w+')\n",
    "\n",
    "# create English stop words list\n",
    "en_stop = get_stop_words('en')\n",
    "\n",
    "# Create p_stemmer of class PorterStemmer\n",
    "p_stemmer = PorterStemmer()\n",
    "    \n",
    "# create sample documents\n",
    "doc_a = \"Brocolli is good to eat. My brother likes to eat good brocolli, but not my mother.\"\n",
    "doc_b = \"My mother spends a lot of time driving my brother around to baseball practice.\"\n",
    "doc_c = \"Some health experts suggest that driving may cause increased tension and blood pressure.\"\n",
    "doc_d = \"I often feel pressure to perform well at school, but my mother never seems to drive my brother to do better.\"\n",
    "doc_e = \"Health professionals say that brocolli is good for your health.\" \n",
    "\n",
    "# compile sample documents into a list\n",
    "doc_set = [doc_a, doc_b, doc_c, doc_d, doc_e]\n",
    "\n",
    "# list for tokenized documents in loop\n",
    "texts = []\n",
    "\n",
    "# loop through document list\n",
    "for i in doc_set:\n",
    "    \n",
    "    # clean and tokenize document string\n",
    "    raw = i.lower()\n",
    "    tokens = tokenizer.tokenize(raw)\n",
    "\n",
    "    # remove stop words from tokens\n",
    "    stopped_tokens = [i for i in tokens if not i in en_stop]\n",
    "    \n",
    "    # stem tokens\n",
    "    stemmed_tokens = [p_stemmer.stem(i) for i in stopped_tokens]\n",
    "    \n",
    "    # add tokens to list\n",
    "    texts.append(stemmed_tokens)\n",
    "\n",
    "# turn our tokenized documents into a id <-> term dictionary\n",
    "dictionary = corpora.Dictionary(texts)\n",
    "    \n",
    "# convert tokenized documents into a document-term matrix\n",
    "corpus = [dictionary.doc2bow(text) for text in texts]\n",
    "\n",
    "# generate LDA model\n",
    "ldamodel = gensim.models.ldamodel.LdaModel(corpus, num_topics=2, id2word = dictionary, passes=20)\n",
    "\n",
    "doc_lda = ldamodel[corpus]\n",
    "print(ldamodel.print_topics())\n",
    "\n"
   ]
  },
  {
   "cell_type": "code",
   "execution_count": 6,
   "metadata": {
    "scrolled": true
   },
   "outputs": [
    {
     "name": "stderr",
     "output_type": "stream",
     "text": [
      "/opt/anaconda3/lib/python3.8/site-packages/ipykernel/ipkernel.py:287: DeprecationWarning: `should_run_async` will not call `transform_cell` automatically in the future. Please pass the result to `transformed_cell` argument and any exception that happen during thetransform in `preprocessing_exc_tuple` in IPython 7.17 and above.\n",
      "  and should_run_async(code)\n",
      "/opt/anaconda3/lib/python3.8/site-packages/pyLDAvis/_prepare.py:246: FutureWarning: In a future version of pandas all arguments of DataFrame.drop except for the argument 'labels' will be keyword-only\n",
      "  default_term_info = default_term_info.sort_values(\n"
     ]
    },
    {
     "data": {
      "text/html": [
       "\n",
       "<link rel=\"stylesheet\" type=\"text/css\" href=\"https://cdn.jsdelivr.net/gh/bmabey/pyLDAvis@3.3.1/pyLDAvis/js/ldavis.v1.0.0.css\">\n",
       "\n",
       "\n",
       "<div id=\"ldavis_el60221403310732306568640420079\"></div>\n",
       "<script type=\"text/javascript\">\n",
       "\n",
       "var ldavis_el60221403310732306568640420079_data = {\"mdsDat\": {\"x\": [0.07106361158527166, -0.07106361158527166], \"y\": [0.0, 0.0], \"topics\": [1, 2], \"cluster\": [1, 1], \"Freq\": [53.14593121758931, 46.8540687824107]}, \"tinfo\": {\"Term\": [\"health\", \"brocolli\", \"good\", \"eat\", \"around\", \"spend\", \"basebal\", \"lot\", \"time\", \"practic\", \"school\", \"better\", \"seem\", \"never\", \"often\", \"well\", \"feel\", \"perform\", \"mother\", \"brother\", \"drive\", \"blood\", \"caus\", \"may\", \"suggest\", \"expert\", \"tension\", \"increas\", \"say\", \"profession\", \"health\", \"brocolli\", \"good\", \"eat\", \"blood\", \"caus\", \"may\", \"suggest\", \"expert\", \"tension\", \"increas\", \"say\", \"profession\", \"like\", \"pressur\", \"drive\", \"brother\", \"mother\", \"perform\", \"feel\", \"well\", \"often\", \"never\", \"seem\", \"better\", \"school\", \"practic\", \"time\", \"lot\", \"basebal\", \"around\", \"spend\", \"basebal\", \"lot\", \"time\", \"practic\", \"school\", \"better\", \"seem\", \"never\", \"often\", \"well\", \"feel\", \"perform\", \"mother\", \"brother\", \"drive\", \"pressur\", \"like\", \"profession\", \"say\", \"increas\", \"tension\", \"expert\", \"suggest\", \"may\", \"caus\", \"blood\", \"eat\", \"good\", \"brocolli\", \"health\"], \"Freq\": [2.0, 2.0, 2.0, 1.0, 1.0, 1.0, 1.0, 1.0, 1.0, 1.0, 1.0, 1.0, 1.0, 1.0, 1.0, 1.0, 1.0, 1.0, 2.0, 2.0, 2.0, 1.0, 1.0, 1.0, 1.0, 1.0, 1.0, 1.0, 1.0, 1.0, 2.091083797777376, 2.0908435481246865, 2.0908369908938322, 1.4927295608012017, 0.8952443390585234, 0.8952429729687621, 0.8952428818961113, 0.8952375996823676, 0.8952333192677822, 0.8952283102719907, 0.8952281281266892, 0.8948493569722027, 0.8948404318524288, 0.8947016371326795, 0.892752227043287, 0.8807649715330745, 0.8730279855609071, 0.8729916475732562, 0.3011203128690656, 0.3010730461633242, 0.30103418090961487, 0.30097958285548776, 0.30095239766923765, 0.300935412619872, 0.30089814113755087, 0.3008931321417594, 0.3005637906684697, 0.3005396564160199, 0.30053196077703115, 0.3005163418174268, 0.8694009930042784, 0.8693851757355517, 0.8693830881772426, 0.8693679132341495, 0.8693603659079551, 0.8693370013130339, 0.8690174443103325, 0.8690125465773765, 0.8689763354697839, 0.8689598758754237, 0.8689333799430389, 0.8688805486596777, 0.8688427317380012, 0.8687968857459051, 1.4747971580520856, 1.4747618301422392, 1.467252079997346, 0.8750807574191283, 0.29265477928077066, 0.29252003140645316, 0.29251133993772394, 0.29214382931194116, 0.2921436486578567, 0.2921388111429289, 0.2921347363896909, 0.2921294773485661, 0.29212943720321394, 0.29212811240659475, 0.29273328351679867, 0.2927345280227137, 0.29272868687398346, 0.29249528179688467], \"Total\": [2.0, 2.0, 2.0, 1.0, 1.0, 1.0, 1.0, 1.0, 1.0, 1.0, 1.0, 1.0, 1.0, 1.0, 1.0, 1.0, 1.0, 1.0, 2.0, 2.0, 2.0, 1.0, 1.0, 1.0, 1.0, 1.0, 1.0, 1.0, 1.0, 1.0, 2.3835790795742606, 2.38357223499867, 2.383571518916546, 1.7854628443180003, 1.187372451465118, 1.187372410171976, 1.1873723592446774, 1.1873723360720585, 1.187372130410711, 1.1873719589298473, 1.1873719574386303, 1.1873606969099266, 1.187360463258882, 1.1873564164134502, 1.7678329844624154, 2.3480170515304204, 2.3477898157031465, 2.347788805625342, 1.1699171986149706, 1.1699157779013254, 1.1699147295692924, 1.1699129627985267, 1.1699122735446612, 1.169911748089656, 1.1699106877149275, 1.1699105764520918, 1.1699007919815037, 1.1699000223239748, 1.1698998740111808, 1.1698994299946694, 1.1698988698417647, 1.1698993318093605, 1.1698994299946694, 1.1698998740111808, 1.1699000223239748, 1.1699007919815037, 1.1699105764520918, 1.1699106877149275, 1.169911748089656, 1.1699122735446612, 1.1699129627985267, 1.1699147295692924, 1.1699157779013254, 1.1699171986149706, 2.347788805625342, 2.3477898157031465, 2.3480170515304204, 1.7678329844624154, 1.1873564164134502, 1.187360463258882, 1.1873606969099266, 1.1873719574386303, 1.1873719589298473, 1.187372130410711, 1.1873723360720585, 1.1873723592446774, 1.187372410171976, 1.187372451465118, 1.7854628443180003, 2.383571518916546, 2.38357223499867, 2.3835790795742606], \"Category\": [\"Default\", \"Default\", \"Default\", \"Default\", \"Default\", \"Default\", \"Default\", \"Default\", \"Default\", \"Default\", \"Default\", \"Default\", \"Default\", \"Default\", \"Default\", \"Default\", \"Default\", \"Default\", \"Default\", \"Default\", \"Default\", \"Default\", \"Default\", \"Default\", \"Default\", \"Default\", \"Default\", \"Default\", \"Default\", \"Default\", \"Topic1\", \"Topic1\", \"Topic1\", \"Topic1\", \"Topic1\", \"Topic1\", \"Topic1\", \"Topic1\", \"Topic1\", \"Topic1\", \"Topic1\", \"Topic1\", \"Topic1\", \"Topic1\", \"Topic1\", \"Topic1\", \"Topic1\", \"Topic1\", \"Topic1\", \"Topic1\", \"Topic1\", \"Topic1\", \"Topic1\", \"Topic1\", \"Topic1\", \"Topic1\", \"Topic1\", \"Topic1\", \"Topic1\", \"Topic1\", \"Topic2\", \"Topic2\", \"Topic2\", \"Topic2\", \"Topic2\", \"Topic2\", \"Topic2\", \"Topic2\", \"Topic2\", \"Topic2\", \"Topic2\", \"Topic2\", \"Topic2\", \"Topic2\", \"Topic2\", \"Topic2\", \"Topic2\", \"Topic2\", \"Topic2\", \"Topic2\", \"Topic2\", \"Topic2\", \"Topic2\", \"Topic2\", \"Topic2\", \"Topic2\", \"Topic2\", \"Topic2\", \"Topic2\", \"Topic2\", \"Topic2\", \"Topic2\"], \"logprob\": [30.0, 29.0, 28.0, 27.0, 26.0, 25.0, 24.0, 23.0, 22.0, 21.0, 20.0, 19.0, 18.0, 17.0, 16.0, 15.0, 14.0, 13.0, 12.0, 11.0, 10.0, 9.0, 8.0, 7.0, 6.0, 5.0, 4.0, 3.0, 2.0, 1.0, -2.4588, -2.4589, -2.4589, -2.7959, -3.3072, -3.3072, -3.3072, -3.3072, -3.3072, -3.3072, -3.3072, -3.3076, -3.3076, -3.3078, -3.31, -3.3235, -3.3323, -3.3323, -4.3968, -4.3969, -4.397, -4.3972, -4.3973, -4.3974, -4.3975, -4.3975, -4.3986, -4.3987, -4.3987, -4.3988, -3.2105, -3.2105, -3.2105, -3.2105, -3.2105, -3.2105, -3.2109, -3.2109, -3.2109, -3.211, -3.211, -3.2111, -3.2111, -3.2112, -2.682, -2.682, -2.6871, -3.2039, -4.2993, -4.2997, -4.2998, -4.301, -4.301, -4.301, -4.301, -4.3011, -4.3011, -4.3011, -4.299, -4.299, -4.299, -4.2998], \"loglift\": [30.0, 29.0, 28.0, 27.0, 26.0, 25.0, 24.0, 23.0, 22.0, 21.0, 20.0, 19.0, 18.0, 17.0, 16.0, 15.0, 14.0, 13.0, 12.0, 11.0, 10.0, 9.0, 8.0, 7.0, 6.0, 5.0, 4.0, 3.0, 2.0, 1.0, 0.5012, 0.5011, 0.5011, 0.4531, 0.3497, 0.3497, 0.3497, 0.3497, 0.3497, 0.3497, 0.3497, 0.3493, 0.3493, 0.3491, -0.0511, -0.3484, -0.3571, -0.3572, -0.725, -0.7252, -0.7253, -0.7255, -0.7256, -0.7257, -0.7258, -0.7258, -0.7269, -0.727, -0.727, -0.727, 0.4613, 0.4612, 0.4612, 0.4612, 0.4612, 0.4612, 0.4608, 0.4608, 0.4608, 0.4607, 0.4607, 0.4607, 0.4606, 0.4606, 0.2932, 0.2932, 0.288, 0.0549, -0.6424, -0.6428, -0.6429, -0.6441, -0.6441, -0.6441, -0.6442, -0.6442, -0.6442, -0.6442, -1.05, -1.339, -1.339, -1.3398]}, \"token.table\": {\"Topic\": [2, 2, 2, 1, 1, 1, 2, 1, 1, 2, 1, 1, 2, 1, 1, 1, 1, 2, 1, 1, 2, 2, 2, 2, 2, 1, 2, 1, 1, 2, 2, 2, 1, 1, 2, 2], \"Freq\": [0.8547747380380456, 0.8547743287682057, 0.8547661035161603, 0.8421957228046548, 0.8390767314006391, 0.4259325061006396, 0.4259325061006396, 0.8421957520936186, 0.4258912853074075, 0.4258912853074075, 0.5600788631263697, 0.8421959505265639, 0.8547623845144375, 0.8390769834794389, 0.839074321946653, 0.8421960732146441, 0.8422070965183459, 0.854774004352481, 0.8421957882160315, 0.4259326893475184, 0.4259326893475184, 0.8547649448707362, 0.8547644412862294, 0.8547613465156932, 0.8547733336484571, 0.5656642956597466, 0.5656642956597466, 0.8422042260488916, 0.8422040603183787, 0.8547661848075875, 0.8547653287804793, 0.8547744005062428, 0.8421958046522254, 0.8421960721569326, 0.8547738959894428, 0.8547631504461466], \"Term\": [\"around\", \"basebal\", \"better\", \"blood\", \"brocolli\", \"brother\", \"brother\", \"caus\", \"drive\", \"drive\", \"eat\", \"expert\", \"feel\", \"good\", \"health\", \"increas\", \"like\", \"lot\", \"may\", \"mother\", \"mother\", \"never\", \"often\", \"perform\", \"practic\", \"pressur\", \"pressur\", \"profession\", \"say\", \"school\", \"seem\", \"spend\", \"suggest\", \"tension\", \"time\", \"well\"]}, \"R\": 30, \"lambda.step\": 0.01, \"plot.opts\": {\"xlab\": \"PC1\", \"ylab\": \"PC2\"}, \"topic.order\": [1, 2]};\n",
       "\n",
       "function LDAvis_load_lib(url, callback){\n",
       "  var s = document.createElement('script');\n",
       "  s.src = url;\n",
       "  s.async = true;\n",
       "  s.onreadystatechange = s.onload = callback;\n",
       "  s.onerror = function(){console.warn(\"failed to load library \" + url);};\n",
       "  document.getElementsByTagName(\"head\")[0].appendChild(s);\n",
       "}\n",
       "\n",
       "if(typeof(LDAvis) !== \"undefined\"){\n",
       "   // already loaded: just create the visualization\n",
       "   !function(LDAvis){\n",
       "       new LDAvis(\"#\" + \"ldavis_el60221403310732306568640420079\", ldavis_el60221403310732306568640420079_data);\n",
       "   }(LDAvis);\n",
       "}else if(typeof define === \"function\" && define.amd){\n",
       "   // require.js is available: use it to load d3/LDAvis\n",
       "   require.config({paths: {d3: \"https://d3js.org/d3.v5\"}});\n",
       "   require([\"d3\"], function(d3){\n",
       "      window.d3 = d3;\n",
       "      LDAvis_load_lib(\"https://cdn.jsdelivr.net/gh/bmabey/pyLDAvis@3.3.1/pyLDAvis/js/ldavis.v3.0.0.js\", function(){\n",
       "        new LDAvis(\"#\" + \"ldavis_el60221403310732306568640420079\", ldavis_el60221403310732306568640420079_data);\n",
       "      });\n",
       "    });\n",
       "}else{\n",
       "    // require.js not available: dynamically load d3 & LDAvis\n",
       "    LDAvis_load_lib(\"https://d3js.org/d3.v5.js\", function(){\n",
       "         LDAvis_load_lib(\"https://cdn.jsdelivr.net/gh/bmabey/pyLDAvis@3.3.1/pyLDAvis/js/ldavis.v3.0.0.js\", function(){\n",
       "                 new LDAvis(\"#\" + \"ldavis_el60221403310732306568640420079\", ldavis_el60221403310732306568640420079_data);\n",
       "            })\n",
       "         });\n",
       "}\n",
       "</script>"
      ],
      "text/plain": [
       "PreparedData(topic_coordinates=              x    y  topics  cluster       Freq\n",
       "topic                                           \n",
       "0      0.071064  0.0       1        1  53.145931\n",
       "1     -0.071064  0.0       2        1  46.854069, topic_info=        Term      Freq     Total Category  logprob  loglift\n",
       "16    health  2.000000  2.000000  Default  30.0000  30.0000\n",
       "0   brocolli  2.000000  2.000000  Default  29.0000  29.0000\n",
       "3       good  2.000000  2.000000  Default  28.0000  28.0000\n",
       "2        eat  1.000000  1.000000  Default  27.0000  27.0000\n",
       "6     around  1.000000  1.000000  Default  26.0000  26.0000\n",
       "..       ...       ...       ...      ...      ...      ...\n",
       "13     blood  0.292128  1.187372   Topic2  -4.3011  -0.6442\n",
       "2        eat  0.292733  1.785463   Topic2  -4.2990  -1.0500\n",
       "3       good  0.292735  2.383572   Topic2  -4.2990  -1.3390\n",
       "0   brocolli  0.292729  2.383572   Topic2  -4.2990  -1.3390\n",
       "16    health  0.292495  2.383579   Topic2  -4.2998  -1.3398\n",
       "\n",
       "[92 rows x 6 columns], token_table=      Topic      Freq        Term\n",
       "term                             \n",
       "6         2  0.854775      around\n",
       "7         2  0.854774     basebal\n",
       "22        2  0.854766      better\n",
       "13        1  0.842196       blood\n",
       "0         1  0.839077    brocolli\n",
       "1         1  0.425933     brother\n",
       "1         2  0.425933     brother\n",
       "14        1  0.842196        caus\n",
       "8         1  0.425891       drive\n",
       "8         2  0.425891       drive\n",
       "2         1  0.560079         eat\n",
       "15        1  0.842196      expert\n",
       "23        2  0.854762        feel\n",
       "3         1  0.839077        good\n",
       "16        1  0.839074      health\n",
       "17        1  0.842196     increas\n",
       "4         1  0.842207        like\n",
       "9         2  0.854774         lot\n",
       "18        1  0.842196         may\n",
       "5         1  0.425933      mother\n",
       "5         2  0.425933      mother\n",
       "24        2  0.854765       never\n",
       "25        2  0.854764       often\n",
       "26        2  0.854761     perform\n",
       "10        2  0.854773     practic\n",
       "19        1  0.565664     pressur\n",
       "19        2  0.565664     pressur\n",
       "30        1  0.842204  profession\n",
       "31        1  0.842204         say\n",
       "27        2  0.854766      school\n",
       "28        2  0.854765        seem\n",
       "11        2  0.854774       spend\n",
       "20        1  0.842196     suggest\n",
       "21        1  0.842196     tension\n",
       "12        2  0.854774        time\n",
       "29        2  0.854763        well, R=30, lambda_step=0.01, plot_opts={'xlab': 'PC1', 'ylab': 'PC2'}, topic_order=[1, 2])"
      ]
     },
     "execution_count": 6,
     "metadata": {},
     "output_type": "execute_result"
    }
   ],
   "source": [
    "import pyLDAvis\n",
    "import pyLDAvis.gensim_models as gensimvis\n",
    "pyLDAvis.enable_notebook()\n",
    "\n",
    "vis = pyLDAvis.gensim_models.prepare(ldamodel, corpus, dictionary)\n",
    "vis"
   ]
  },
  {
   "cell_type": "code",
   "execution_count": 37,
   "metadata": {},
   "outputs": [
    {
     "name": "stderr",
     "output_type": "stream",
     "text": [
      "/opt/anaconda3/lib/python3.8/site-packages/ipykernel/ipkernel.py:287: DeprecationWarning: `should_run_async` will not call `transform_cell` automatically in the future. Please pass the result to `transformed_cell` argument and any exception that happen during thetransform in `preprocessing_exc_tuple` in IPython 7.17 and above.\n",
      "  and should_run_async(code)\n"
     ]
    },
    {
     "name": "stdout",
     "output_type": "stream",
     "text": [
      "Requirement already satisfied: pandas in /opt/anaconda3/lib/python3.8/site-packages (1.3.2)\r\n",
      "Requirement already satisfied: numpy>=1.17.3 in /opt/anaconda3/lib/python3.8/site-packages (from pandas) (1.21.2)\r\n",
      "Requirement already satisfied: pytz>=2017.3 in /opt/anaconda3/lib/python3.8/site-packages (from pandas) (2020.1)\r\n",
      "Requirement already satisfied: python-dateutil>=2.7.3 in /opt/anaconda3/lib/python3.8/site-packages (from pandas) (2.8.1)\r\n",
      "Requirement already satisfied: six>=1.5 in /opt/anaconda3/lib/python3.8/site-packages (from python-dateutil>=2.7.3->pandas) (1.15.0)\r\n"
     ]
    }
   ],
   "source": [
    "\n"
   ]
  },
  {
   "cell_type": "code",
   "execution_count": null,
   "metadata": {},
   "outputs": [],
   "source": []
  }
 ],
 "metadata": {
  "kernelspec": {
   "display_name": "Python 3",
   "language": "python",
   "name": "python3"
  },
  "language_info": {
   "codemirror_mode": {
    "name": "ipython",
    "version": 3
   },
   "file_extension": ".py",
   "mimetype": "text/x-python",
   "name": "python",
   "nbconvert_exporter": "python",
   "pygments_lexer": "ipython3",
   "version": "3.8.5"
  }
 },
 "nbformat": 4,
 "nbformat_minor": 4
}
